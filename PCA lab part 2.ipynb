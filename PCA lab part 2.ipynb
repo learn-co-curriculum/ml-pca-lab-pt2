{
 "cells": [
  {
   "cell_type": "markdown",
   "metadata": {},
   "source": [
    "# Principal component analysis continued"
   ]
  },
  {
   "cell_type": "markdown",
   "metadata": {},
   "source": [
    "Let's pull up our nutrition data again. "
   ]
  },
  {
   "cell_type": "code",
   "execution_count": 13,
   "metadata": {},
   "outputs": [],
   "source": [
    "import pandas as pd\n",
    "import numpy as np\n",
    "from sklearn.decomposition import PCA\n",
    "import sklearn.preprocessing as preprocessing\n",
    "import matplotlib.pyplot as plt\n",
    "import matplotlib.ticker as ticker\n",
    "% matplotlib inline"
   ]
  },
  {
   "cell_type": "code",
   "execution_count": 14,
   "metadata": {},
   "outputs": [],
   "source": [
    "data = pd.read_csv('nndb.csv', index_col=0)\n",
    "data.drop(data.columns[data.columns.str.contains('USRDA')].values, inplace = True, axis=1)"
   ]
  },
  {
   "cell_type": "code",
   "execution_count": 15,
   "metadata": {},
   "outputs": [],
   "source": [
    "data_desc = data.iloc[:, :3]\n",
    "data.drop(data.columns[:6].values, axis=1, inplace = True)"
   ]
  },
  {
   "cell_type": "code",
   "execution_count": 16,
   "metadata": {},
   "outputs": [],
   "source": [
    "from sklearn.preprocessing import StandardScaler\n",
    "data_stand = StandardScaler().fit_transform(data)\n",
    "data_stand = pd.DataFrame(data_stand)"
   ]
  },
  {
   "cell_type": "code",
   "execution_count": 22,
   "metadata": {},
   "outputs": [
    {
     "data": {
      "text/plain": [
       "PCA(copy=True, iterated_power='auto', n_components=5, random_state=None,\n",
       "  svd_solver='auto', tol=0.0, whiten=False)"
      ]
     },
     "execution_count": 22,
     "metadata": {},
     "output_type": "execute_result"
    }
   ],
   "source": [
    "from sklearn.decomposition import PCA\n",
    "pca = PCA(n_components=5)\n",
    "pca.fit(data_stand)"
   ]
  },
  {
   "cell_type": "code",
   "execution_count": 23,
   "metadata": {},
   "outputs": [
    {
     "data": {
      "text/plain": [
       "array([[ 0.15781367,  0.14062014,  0.03300801,  0.16968462,  0.07632269,\n",
       "         0.18157009,  0.13351909,  0.31566255,  0.17798438,  0.08763951,\n",
       "         0.13712215,  0.28410245,  0.33777884,  0.34132454,  0.27245332,\n",
       "         0.16811192,  0.18080587,  0.29985691,  0.24134813,  0.09356744,\n",
       "         0.19940267,  0.09231858,  0.24355142],\n",
       "       [-0.27344847,  0.34339988, -0.1116716 , -0.44341529, -0.35877094,\n",
       "        -0.25771524,  0.23648469,  0.02112324,  0.35502901, -0.03852764,\n",
       "        -0.10637094, -0.09710624,  0.08480726,  0.07347675, -0.07514126,\n",
       "        -0.10515819,  0.21266939, -0.09382853, -0.10337391,  0.08878011,\n",
       "         0.08743509,  0.23932549,  0.17781505],\n",
       "       [-0.46199852, -0.21354117, -0.53406614,  0.04984253,  0.0552317 ,\n",
       "        -0.0403809 , -0.02188985,  0.1746181 , -0.01277952,  0.16231964,\n",
       "        -0.20731545,  0.2309992 ,  0.16486557,  0.19208485,  0.18436932,\n",
       "        -0.12814644, -0.15227729,  0.08710913, -0.20125768, -0.07264026,\n",
       "        -0.27480224, -0.16336477, -0.0386102 ],\n",
       "       [ 0.05230038, -0.3110986 ,  0.02649053,  0.17417034,  0.21731883,\n",
       "         0.04210969,  0.53046508, -0.11440408,  0.34649145,  0.0476059 ,\n",
       "         0.02619215, -0.03244152, -0.15640209,  0.04696502, -0.10353041,\n",
       "        -0.09937585,  0.38992483, -0.05942362, -0.07184762,  0.31135364,\n",
       "        -0.20782477, -0.16162688, -0.16628413],\n",
       "       [-0.29357124,  0.01325795, -0.39450398,  0.08279811, -0.04847692,\n",
       "         0.33224353,  0.00829768, -0.13387171, -0.05894264,  0.02476828,\n",
       "        -0.23796645, -0.13766185, -0.20348723, -0.1534815 , -0.16146168,\n",
       "         0.38866841,  0.16118293,  0.09709013,  0.35261849,  0.1255577 ,\n",
       "         0.34497051, -0.00506198, -0.06419176]])"
      ]
     },
     "execution_count": 23,
     "metadata": {},
     "output_type": "execute_result"
    }
   ],
   "source": [
    "pca.components_"
   ]
  },
  {
   "cell_type": "code",
   "execution_count": 25,
   "metadata": {},
   "outputs": [
    {
     "name": "stdout",
     "output_type": "stream",
     "text": [
      "[5.44991815 2.61876219 2.0321333  1.87934926 1.6358604 ]\n"
     ]
    }
   ],
   "source": [
    "print(pca.explained_variance_)"
   ]
  },
  {
   "cell_type": "code",
   "execution_count": 123,
   "metadata": {},
   "outputs": [],
   "source": [
    "# from sklearn.decomposition import PCA\n",
    "fit = PCA()\n",
    "pca = fit.fit_transform(data_stand)"
   ]
  },
  {
   "cell_type": "code",
   "execution_count": 26,
   "metadata": {},
   "outputs": [
    {
     "data": {
      "text/plain": [
       "17576"
      ]
     },
     "execution_count": 26,
     "metadata": {},
     "output_type": "execute_result"
    }
   ],
   "source": [
    "26*26*26"
   ]
  },
  {
   "cell_type": "markdown",
   "metadata": {},
   "source": [
    "#### check the eigenvalues to find most important components"
   ]
  },
  {
   "cell_type": "code",
   "execution_count": 10,
   "metadata": {},
   "outputs": [
    {
     "data": {
      "image/png": "[encoded data removed]",
      "text/plain": [
       "<matplotlib.figure.Figure at 0x1035830b8>"
      ]
     },
     "metadata": {},
     "output_type": "display_data"
    }
   ],
   "source": [
    "plt.plot(fit.explained_variance_ratio_);"
   ]
  },
  {
   "cell_type": "code",
   "execution_count": 126,
   "metadata": {},
   "outputs": [
    {
     "name": "stdout",
     "output_type": "stream",
     "text": [
      "[2.36925468e-01 1.13846015e-01 8.83433734e-02 8.17013669e-02\n",
      " 7.11161480e-02 4.95813332e-02 4.61246638e-02 4.02719041e-02\n",
      " 3.74790508e-02 3.58559322e-02 3.17927198e-02 2.59519549e-02\n",
      " 2.21153503e-02 2.04113766e-02 1.77385355e-02 1.46927827e-02\n",
      " 1.43290735e-02 1.39668837e-02 1.11392349e-02 1.03538827e-02\n",
      " 9.18082227e-03 6.91711649e-03 1.65010749e-04]\n",
      "0.5919323716235945\n"
     ]
    }
   ],
   "source": [
    "print(fit.explained_variance_ratio_)\n",
    "print(fit.explained_variance_ratio_[:5].sum())"
   ]
  },
  {
   "cell_type": "code",
   "execution_count": 127,
   "metadata": {},
   "outputs": [],
   "source": [
    "## ??? \n",
    "pca = pd.DataFrame(pca[:, :5], index=data.index)\n",
    "pca = pca.join(data_desc)\n",
    "pca.rename(columns={0:'c1',1:'c2',2:'c3',3:'c4',4:'c5'}, inplace=True)"
   ]
  },
  {
   "cell_type": "code",
   "execution_count": 128,
   "metadata": {},
   "outputs": [
    {
     "data": {
      "text/html": [
       "<div>\n",
       "<style scoped>\n",
       "    .dataframe tbody tr th:only-of-type {\n",
       "        vertical-align: middle;\n",
       "    }\n",
       "\n",
       "    .dataframe tbody tr th {\n",
       "        vertical-align: top;\n",
       "    }\n",
       "\n",
       "    .dataframe thead th {\n",
       "        text-align: right;\n",
       "    }\n",
       "</style>\n",
       "<table border=\"1\" class=\"dataframe\">\n",
       "  <thead>\n",
       "    <tr style=\"text-align: right;\">\n",
       "      <th></th>\n",
       "      <th>c1</th>\n",
       "      <th>c2</th>\n",
       "      <th>c3</th>\n",
       "      <th>c4</th>\n",
       "      <th>c5</th>\n",
       "    </tr>\n",
       "  </thead>\n",
       "  <tbody>\n",
       "    <tr>\n",
       "      <th>c1</th>\n",
       "      <td>1.0</td>\n",
       "      <td>-0.0</td>\n",
       "      <td>-0.0</td>\n",
       "      <td>-0.0</td>\n",
       "      <td>0.0</td>\n",
       "    </tr>\n",
       "    <tr>\n",
       "      <th>c2</th>\n",
       "      <td>-0.0</td>\n",
       "      <td>1.0</td>\n",
       "      <td>0.0</td>\n",
       "      <td>-0.0</td>\n",
       "      <td>0.0</td>\n",
       "    </tr>\n",
       "    <tr>\n",
       "      <th>c3</th>\n",
       "      <td>-0.0</td>\n",
       "      <td>0.0</td>\n",
       "      <td>1.0</td>\n",
       "      <td>0.0</td>\n",
       "      <td>-0.0</td>\n",
       "    </tr>\n",
       "    <tr>\n",
       "      <th>c4</th>\n",
       "      <td>-0.0</td>\n",
       "      <td>-0.0</td>\n",
       "      <td>0.0</td>\n",
       "      <td>1.0</td>\n",
       "      <td>0.0</td>\n",
       "    </tr>\n",
       "    <tr>\n",
       "      <th>c5</th>\n",
       "      <td>0.0</td>\n",
       "      <td>0.0</td>\n",
       "      <td>-0.0</td>\n",
       "      <td>0.0</td>\n",
       "      <td>1.0</td>\n",
       "    </tr>\n",
       "  </tbody>\n",
       "</table>\n",
       "</div>"
      ],
      "text/plain": [
       "     c1   c2   c3   c4   c5\n",
       "c1  1.0 -0.0 -0.0 -0.0  0.0\n",
       "c2 -0.0  1.0  0.0 -0.0  0.0\n",
       "c3 -0.0  0.0  1.0  0.0 -0.0\n",
       "c4 -0.0 -0.0  0.0  1.0  0.0\n",
       "c5  0.0  0.0 -0.0  0.0  1.0"
      ]
     },
     "execution_count": 128,
     "metadata": {},
     "output_type": "execute_result"
    }
   ],
   "source": [
    "# we see that the five vectors are orthogonal\n",
    "np.round(pca.corr(), 5)"
   ]
  },
  {
   "cell_type": "markdown",
   "metadata": {},
   "source": [
    "## Try to interpret the components\n",
    "\n",
    "(this is where deep subject matter expertise, in this case nutrition, comes in handy)"
   ]
  },
  {
   "cell_type": "markdown",
   "metadata": {},
   "source": [
    "#### NOTE: The descriptions are not correct as we didn't do boxfox transformations"
   ]
  },
  {
   "cell_type": "markdown",
   "metadata": {},
   "source": [
    "**Component one** \n",
    "\n",
    "foods that are high in: zinc, and other vitamins and minerals\n",
    "\n",
    "low in: sugar, vitamin C, Carbs, and fiber"
   ]
  },
  {
   "cell_type": "code",
   "execution_count": 138,
   "metadata": {},
   "outputs": [
    {
     "data": {
      "text/plain": [
       "Riboflavin_mg    0.341325\n",
       "Niacin_mg        0.337779\n",
       "VitB6_mg         0.315663\n",
       "Iron_mg          0.299857\n",
       "Folate_mcg       0.284102\n",
       "Thiamin_mg       0.272453\n",
       "Zinc_mg          0.243551\n",
       "Magnesium_mg     0.241348\n",
       "Phosphorus_mg    0.199403\n",
       "Fiber_g          0.181570\n",
       "Copper_mcg       0.180806\n",
       "VitB12_mcg       0.177985\n",
       "Carb_g           0.169685\n",
       "Calcium_mg       0.168112\n",
       "Energy_kcal      0.157814\n",
       "Protein_g        0.140620\n",
       "VitE_mg          0.137122\n",
       "VitA_mcg         0.133519\n",
       "Manganese_mg     0.093567\n",
       "Selenium_mcg     0.092319\n",
       "VitC_mg          0.087639\n",
       "Sugar_g          0.076323\n",
       "Fat_g            0.033008\n",
       "dtype: float64"
      ]
     },
     "execution_count": 138,
     "metadata": {},
     "output_type": "execute_result"
    }
   ],
   "source": [
    "vects = fit.components_[:5]\n",
    "\n",
    "one = pd.Series(vects[0], index=data.columns)\n",
    "one.sort_values(ascending=False)"
   ]
  },
  {
   "cell_type": "markdown",
   "metadata": {},
   "source": [
    "**Component two**\n",
    "\n",
    "High: Carbs, Fiber, Mang, Sugar, Vitamin C...\n",
    "\n",
    "Low: Vitamine B12, protein, selenium, Fat..."
   ]
  },
  {
   "cell_type": "code",
   "execution_count": 130,
   "metadata": {},
   "outputs": [
    {
     "data": {
      "text/plain": [
       "VitB12_mcg       0.355045\n",
       "Protein_g        0.343397\n",
       "Selenium_mcg     0.239322\n",
       "VitA_mcg         0.236470\n",
       "Copper_mcg       0.212669\n",
       "Zinc_mg          0.177798\n",
       "Manganese_mg     0.088783\n",
       "Phosphorus_mg    0.087448\n",
       "Niacin_mg        0.084801\n",
       "Riboflavin_mg    0.073471\n",
       "VitB6_mg         0.021129\n",
       "VitC_mg         -0.038525\n",
       "Thiamin_mg      -0.075150\n",
       "Iron_mg         -0.093812\n",
       "Folate_mcg      -0.097093\n",
       "Magnesium_mg    -0.103361\n",
       "Calcium_mg      -0.105173\n",
       "VitE_mg         -0.106372\n",
       "Fat_g           -0.111670\n",
       "Fiber_g         -0.257733\n",
       "Energy_kcal     -0.273449\n",
       "Sugar_g         -0.358769\n",
       "Carb_g          -0.443416\n",
       "dtype: float64"
      ]
     },
     "execution_count": 130,
     "metadata": {},
     "output_type": "execute_result"
    }
   ],
   "source": [
    "two = pd.Series(vects[1], index=data.columns)\n",
    "two.sort_values(ascending=False)"
   ]
  },
  {
   "cell_type": "markdown",
   "metadata": {},
   "source": [
    "**Component three**\n",
    "\n",
    "High: calories, fat, carbs, sugar...\n",
    "\n",
    "Low: vitamin A, vitamin C, folate, copper..."
   ]
  },
  {
   "cell_type": "code",
   "execution_count": 131,
   "metadata": {},
   "outputs": [
    {
     "data": {
      "text/plain": [
       "Folate_mcg       0.230985\n",
       "Riboflavin_mg    0.192098\n",
       "Thiamin_mg       0.184351\n",
       "VitB6_mg         0.174648\n",
       "Niacin_mg        0.164885\n",
       "VitC_mg          0.162303\n",
       "Iron_mg          0.087109\n",
       "Sugar_g          0.055247\n",
       "Carb_g           0.049822\n",
       "VitB12_mcg      -0.012760\n",
       "VitA_mcg        -0.021929\n",
       "Zinc_mg         -0.038639\n",
       "Fiber_g         -0.040397\n",
       "Manganese_mg    -0.072630\n",
       "Calcium_mg      -0.128139\n",
       "Copper_mcg      -0.152263\n",
       "Selenium_mcg    -0.163361\n",
       "Magnesium_mg    -0.201225\n",
       "VitE_mg         -0.207331\n",
       "Protein_g       -0.213567\n",
       "Phosphorus_mg   -0.274814\n",
       "Energy_kcal     -0.462006\n",
       "Fat_g           -0.534051\n",
       "dtype: float64"
      ]
     },
     "execution_count": 131,
     "metadata": {},
     "output_type": "execute_result"
    }
   ],
   "source": [
    "three = pd.Series(vects[2], index=data.columns)\n",
    "three.sort_values(ascending=False)"
   ]
  },
  {
   "cell_type": "markdown",
   "metadata": {},
   "source": [
    "**Component four**\n",
    "\n",
    "High: vitamin A, vitamin E, fat, sugar, calcium, vitamin B12, calories...\n",
    "\n",
    "Low: manganese, copper, iron, magnesium, fiber"
   ]
  },
  {
   "cell_type": "code",
   "execution_count": 132,
   "metadata": {},
   "outputs": [
    {
     "data": {
      "text/plain": [
       "VitA_mcg         0.530395\n",
       "Copper_mcg       0.389929\n",
       "VitB12_mcg       0.346550\n",
       "Manganese_mg     0.311369\n",
       "Sugar_g          0.217373\n",
       "Carb_g           0.174108\n",
       "Energy_kcal      0.052280\n",
       "VitC_mg          0.047584\n",
       "Riboflavin_mg    0.046996\n",
       "Fiber_g          0.042130\n",
       "Fat_g            0.026520\n",
       "VitE_mg          0.026174\n",
       "Folate_mcg      -0.032481\n",
       "Iron_mg         -0.059443\n",
       "Magnesium_mg    -0.071805\n",
       "Calcium_mg      -0.099340\n",
       "Thiamin_mg      -0.103518\n",
       "VitB6_mg        -0.114372\n",
       "Niacin_mg       -0.156394\n",
       "Selenium_mcg    -0.161623\n",
       "Zinc_mg         -0.166322\n",
       "Phosphorus_mg   -0.207871\n",
       "Protein_g       -0.311112\n",
       "dtype: float64"
      ]
     },
     "execution_count": 132,
     "metadata": {},
     "output_type": "execute_result"
    }
   ],
   "source": [
    "four = pd.Series(vects[3], index=data.columns)\n",
    "four.sort_values(ascending=False)"
   ]
  },
  {
   "cell_type": "markdown",
   "metadata": {},
   "source": [
    "# Now let's look at which food groups are highest in each component"
   ]
  },
  {
   "cell_type": "code",
   "execution_count": 133,
   "metadata": {},
   "outputs": [
    {
     "data": {
      "text/plain": [
       "Soups, Sauces, and Gravies             219\n",
       "Beverages                              176\n",
       "Vegetables and Vegetable Products       28\n",
       "Fruits and Fruit Juices                 27\n",
       "American Indian/Alaska Native Foods     11\n",
       "Sweets                                   9\n",
       "Baby Foods                               6\n",
       "Legumes and Legume Products              6\n",
       "Spices and Herbs                         6\n",
       "Fats and Oils                            5\n",
       "Dairy and Egg Products                   3\n",
       "Meals, Entrees, and Side Dishes          2\n",
       "Baked Products                           1\n",
       "Fast Foods                               1\n",
       "Name: FoodGroup, dtype: int64"
      ]
     },
     "execution_count": 133,
     "metadata": {},
     "output_type": "execute_result"
    }
   ],
   "source": [
    "pca.sort_values(by='c1')['FoodGroup'][:500].value_counts()"
   ]
  },
  {
   "cell_type": "code",
   "execution_count": 134,
   "metadata": {},
   "outputs": [
    {
     "data": {
      "text/plain": [
       "Sweets                                 170\n",
       "Baked Products                         148\n",
       "Breakfast Cereals                       53\n",
       "Spices and Herbs                        26\n",
       "Snacks                                  22\n",
       "Beverages                               18\n",
       "Fruits and Fruit Juices                 16\n",
       "Fats and Oils                           14\n",
       "Vegetables and Vegetable Products       12\n",
       "Baby Foods                               7\n",
       "Dairy and Egg Products                   5\n",
       "Nut and Seed Products                    4\n",
       "American Indian/Alaska Native Foods      3\n",
       "Cereal Grains and Pasta                  1\n",
       "Legumes and Legume Products              1\n",
       "Name: FoodGroup, dtype: int64"
      ]
     },
     "execution_count": 134,
     "metadata": {},
     "output_type": "execute_result"
    }
   ],
   "source": [
    "pca.sort_values(by='c2')['FoodGroup'][:500].value_counts()"
   ]
  },
  {
   "cell_type": "code",
   "execution_count": 135,
   "metadata": {},
   "outputs": [
    {
     "data": {
      "text/plain": [
       "Fats and Oils                          148\n",
       "Nut and Seed Products                   90\n",
       "Dairy and Egg Products                  57\n",
       "Legumes and Legume Products             50\n",
       "Beef Products                           20\n",
       "Lamb, Veal, and Game Products           20\n",
       "Sweets                                  19\n",
       "American Indian/Alaska Native Foods     17\n",
       "Pork Products                           16\n",
       "Snacks                                  15\n",
       "Spices and Herbs                        14\n",
       "Beverages                                8\n",
       "Breakfast Cereals                        6\n",
       "Finfish and Shellfish Products           5\n",
       "Poultry Products                         4\n",
       "Baked Products                           3\n",
       "Baby Foods                               2\n",
       "Cereal Grains and Pasta                  2\n",
       "Soups, Sauces, and Gravies               1\n",
       "Vegetables and Vegetable Products        1\n",
       "Sausages and Luncheon Meats              1\n",
       "Fast Foods                               1\n",
       "Name: FoodGroup, dtype: int64"
      ]
     },
     "execution_count": 135,
     "metadata": {},
     "output_type": "execute_result"
    }
   ],
   "source": [
    "pca.sort_values(by='c3')['FoodGroup'][:500].value_counts()"
   ]
  },
  {
   "cell_type": "code",
   "execution_count": 136,
   "metadata": {},
   "outputs": [
    {
     "data": {
      "text/plain": [
       "Beef Products                          149\n",
       "Pork Products                          107\n",
       "Poultry Products                        39\n",
       "Breakfast Cereals                       34\n",
       "Dairy and Egg Products                  34\n",
       "Lamb, Veal, and Game Products           25\n",
       "American Indian/Alaska Native Foods     19\n",
       "Legumes and Legume Products             18\n",
       "Nut and Seed Products                   16\n",
       "Finfish and Shellfish Products          12\n",
       "Baby Foods                              10\n",
       "Snacks                                   8\n",
       "Spices and Herbs                         7\n",
       "Baked Products                           5\n",
       "Cereal Grains and Pasta                  4\n",
       "Beverages                                3\n",
       "Sweets                                   3\n",
       "Restaurant Foods                         2\n",
       "Vegetables and Vegetable Products        2\n",
       "Fast Foods                               2\n",
       "Sausages and Luncheon Meats              1\n",
       "Name: FoodGroup, dtype: int64"
      ]
     },
     "execution_count": 136,
     "metadata": {},
     "output_type": "execute_result"
    }
   ],
   "source": [
    "pca.sort_values(by='c4')['FoodGroup'][:500].value_counts()"
   ]
  },
  {
   "cell_type": "code",
   "execution_count": 137,
   "metadata": {},
   "outputs": [
    {
     "data": {
      "text/plain": [
       "Fats and Oils                          170\n",
       "Breakfast Cereals                      129\n",
       "Pork Products                           29\n",
       "Baked Products                          22\n",
       "Poultry Products                        21\n",
       "Beef Products                           21\n",
       "Lamb, Veal, and Game Products           21\n",
       "Legumes and Legume Products             19\n",
       "Sausages and Luncheon Meats             18\n",
       "Snacks                                  16\n",
       "American Indian/Alaska Native Foods     14\n",
       "Dairy and Egg Products                   5\n",
       "Nut and Seed Products                    4\n",
       "Sweets                                   3\n",
       "Baby Foods                               2\n",
       "Beverages                                2\n",
       "Fast Foods                               2\n",
       "Vegetables and Vegetable Products        1\n",
       "Soups, Sauces, and Gravies               1\n",
       "Name: FoodGroup, dtype: int64"
      ]
     },
     "execution_count": 137,
     "metadata": {},
     "output_type": "execute_result"
    }
   ],
   "source": [
    "pca.sort_values(by='c5')['FoodGroup'][:500].value_counts()"
   ]
  },
  {
   "cell_type": "markdown",
   "metadata": {},
   "source": [
    "# small data set tryout"
   ]
  },
  {
   "cell_type": "code",
   "execution_count": 4,
   "metadata": {},
   "outputs": [],
   "source": [
    "data = pd.read_csv('foodusa.csv', index_col=0)"
   ]
  },
  {
   "cell_type": "code",
   "execution_count": 5,
   "metadata": {},
   "outputs": [
    {
     "data": {
      "text/html": [
       "<div>\n",
       "<style scoped>\n",
       "    .dataframe tbody tr th:only-of-type {\n",
       "        vertical-align: middle;\n",
       "    }\n",
       "\n",
       "    .dataframe tbody tr th {\n",
       "        vertical-align: top;\n",
       "    }\n",
       "\n",
       "    .dataframe thead th {\n",
       "        text-align: right;\n",
       "    }\n",
       "</style>\n",
       "<table border=\"1\" class=\"dataframe\">\n",
       "  <thead>\n",
       "    <tr style=\"text-align: right;\">\n",
       "      <th></th>\n",
       "      <th>Bread</th>\n",
       "      <th>Burger</th>\n",
       "      <th>Milk</th>\n",
       "      <th>Oranges</th>\n",
       "      <th>Tomatoes</th>\n",
       "    </tr>\n",
       "    <tr>\n",
       "      <th>City</th>\n",
       "      <th></th>\n",
       "      <th></th>\n",
       "      <th></th>\n",
       "      <th></th>\n",
       "      <th></th>\n",
       "    </tr>\n",
       "  </thead>\n",
       "  <tbody>\n",
       "    <tr>\n",
       "      <th>ATLANTA</th>\n",
       "      <td>24.5</td>\n",
       "      <td>94.5</td>\n",
       "      <td>73.9</td>\n",
       "      <td>80.1</td>\n",
       "      <td>41.6</td>\n",
       "    </tr>\n",
       "    <tr>\n",
       "      <th>BALTIMORE</th>\n",
       "      <td>26.5</td>\n",
       "      <td>91.0</td>\n",
       "      <td>67.5</td>\n",
       "      <td>74.6</td>\n",
       "      <td>53.3</td>\n",
       "    </tr>\n",
       "    <tr>\n",
       "      <th>BOSTON</th>\n",
       "      <td>29.7</td>\n",
       "      <td>100.8</td>\n",
       "      <td>61.4</td>\n",
       "      <td>104.0</td>\n",
       "      <td>59.6</td>\n",
       "    </tr>\n",
       "    <tr>\n",
       "      <th>BUFFALO</th>\n",
       "      <td>22.8</td>\n",
       "      <td>86.6</td>\n",
       "      <td>65.3</td>\n",
       "      <td>118.4</td>\n",
       "      <td>51.2</td>\n",
       "    </tr>\n",
       "    <tr>\n",
       "      <th>CHICAGO</th>\n",
       "      <td>26.7</td>\n",
       "      <td>86.7</td>\n",
       "      <td>62.7</td>\n",
       "      <td>105.9</td>\n",
       "      <td>51.2</td>\n",
       "    </tr>\n",
       "    <tr>\n",
       "      <th>CINCINNATI</th>\n",
       "      <td>25.3</td>\n",
       "      <td>102.5</td>\n",
       "      <td>63.3</td>\n",
       "      <td>99.3</td>\n",
       "      <td>45.6</td>\n",
       "    </tr>\n",
       "    <tr>\n",
       "      <th>CLEVELAND</th>\n",
       "      <td>22.8</td>\n",
       "      <td>88.8</td>\n",
       "      <td>52.4</td>\n",
       "      <td>110.9</td>\n",
       "      <td>46.8</td>\n",
       "    </tr>\n",
       "    <tr>\n",
       "      <th>DALLAS</th>\n",
       "      <td>23.3</td>\n",
       "      <td>85.5</td>\n",
       "      <td>62.5</td>\n",
       "      <td>117.9</td>\n",
       "      <td>41.8</td>\n",
       "    </tr>\n",
       "    <tr>\n",
       "      <th>DETROIT</th>\n",
       "      <td>24.1</td>\n",
       "      <td>93.7</td>\n",
       "      <td>51.5</td>\n",
       "      <td>109.7</td>\n",
       "      <td>52.4</td>\n",
       "    </tr>\n",
       "    <tr>\n",
       "      <th>HONALULU</th>\n",
       "      <td>29.3</td>\n",
       "      <td>105.9</td>\n",
       "      <td>80.2</td>\n",
       "      <td>133.2</td>\n",
       "      <td>61.7</td>\n",
       "    </tr>\n",
       "    <tr>\n",
       "      <th>HOUSTON</th>\n",
       "      <td>22.3</td>\n",
       "      <td>83.6</td>\n",
       "      <td>67.8</td>\n",
       "      <td>108.6</td>\n",
       "      <td>42.4</td>\n",
       "    </tr>\n",
       "    <tr>\n",
       "      <th>KANSAS CITY</th>\n",
       "      <td>26.1</td>\n",
       "      <td>88.9</td>\n",
       "      <td>65.4</td>\n",
       "      <td>100.9</td>\n",
       "      <td>43.2</td>\n",
       "    </tr>\n",
       "    <tr>\n",
       "      <th>LOS ANGELES</th>\n",
       "      <td>26.9</td>\n",
       "      <td>89.3</td>\n",
       "      <td>56.2</td>\n",
       "      <td>82.7</td>\n",
       "      <td>38.4</td>\n",
       "    </tr>\n",
       "    <tr>\n",
       "      <th>MILWAUKEE</th>\n",
       "      <td>20.3</td>\n",
       "      <td>89.6</td>\n",
       "      <td>53.8</td>\n",
       "      <td>111.8</td>\n",
       "      <td>53.9</td>\n",
       "    </tr>\n",
       "    <tr>\n",
       "      <th>MINNEAPOLIS</th>\n",
       "      <td>24.6</td>\n",
       "      <td>92.2</td>\n",
       "      <td>51.9</td>\n",
       "      <td>106.0</td>\n",
       "      <td>50.7</td>\n",
       "    </tr>\n",
       "    <tr>\n",
       "      <th>NEW YORK</th>\n",
       "      <td>30.8</td>\n",
       "      <td>110.7</td>\n",
       "      <td>66.0</td>\n",
       "      <td>107.3</td>\n",
       "      <td>62.6</td>\n",
       "    </tr>\n",
       "    <tr>\n",
       "      <th>PHILADELPHIA</th>\n",
       "      <td>24.5</td>\n",
       "      <td>92.3</td>\n",
       "      <td>66.7</td>\n",
       "      <td>98.0</td>\n",
       "      <td>61.7</td>\n",
       "    </tr>\n",
       "    <tr>\n",
       "      <th>PITTSBURGH</th>\n",
       "      <td>26.2</td>\n",
       "      <td>95.4</td>\n",
       "      <td>60.2</td>\n",
       "      <td>117.1</td>\n",
       "      <td>49.3</td>\n",
       "    </tr>\n",
       "    <tr>\n",
       "      <th>ST LOUIS</th>\n",
       "      <td>26.5</td>\n",
       "      <td>92.4</td>\n",
       "      <td>60.8</td>\n",
       "      <td>115.1</td>\n",
       "      <td>46.2</td>\n",
       "    </tr>\n",
       "    <tr>\n",
       "      <th>SAN DIEGO</th>\n",
       "      <td>25.5</td>\n",
       "      <td>83.7</td>\n",
       "      <td>57.0</td>\n",
       "      <td>92.8</td>\n",
       "      <td>35.4</td>\n",
       "    </tr>\n",
       "    <tr>\n",
       "      <th>SAN FRANCISCO</th>\n",
       "      <td>26.3</td>\n",
       "      <td>87.1</td>\n",
       "      <td>58.3</td>\n",
       "      <td>101.8</td>\n",
       "      <td>41.5</td>\n",
       "    </tr>\n",
       "    <tr>\n",
       "      <th>SEATTLE</th>\n",
       "      <td>22.5</td>\n",
       "      <td>77.7</td>\n",
       "      <td>62.0</td>\n",
       "      <td>91.1</td>\n",
       "      <td>44.9</td>\n",
       "    </tr>\n",
       "    <tr>\n",
       "      <th>WASHINGTON DC</th>\n",
       "      <td>24.2</td>\n",
       "      <td>93.8</td>\n",
       "      <td>66.0</td>\n",
       "      <td>81.6</td>\n",
       "      <td>46.2</td>\n",
       "    </tr>\n",
       "  </tbody>\n",
       "</table>\n",
       "</div>"
      ],
      "text/plain": [
       "               Bread  Burger  Milk  Oranges  Tomatoes\n",
       "City                                                 \n",
       "ATLANTA         24.5    94.5  73.9     80.1      41.6\n",
       "BALTIMORE       26.5    91.0  67.5     74.6      53.3\n",
       "BOSTON          29.7   100.8  61.4    104.0      59.6\n",
       "BUFFALO         22.8    86.6  65.3    118.4      51.2\n",
       "CHICAGO         26.7    86.7  62.7    105.9      51.2\n",
       "CINCINNATI      25.3   102.5  63.3     99.3      45.6\n",
       "CLEVELAND       22.8    88.8  52.4    110.9      46.8\n",
       "DALLAS          23.3    85.5  62.5    117.9      41.8\n",
       "DETROIT         24.1    93.7  51.5    109.7      52.4\n",
       "HONALULU        29.3   105.9  80.2    133.2      61.7\n",
       "HOUSTON         22.3    83.6  67.8    108.6      42.4\n",
       "KANSAS CITY     26.1    88.9  65.4    100.9      43.2\n",
       "LOS ANGELES     26.9    89.3  56.2     82.7      38.4\n",
       "MILWAUKEE       20.3    89.6  53.8    111.8      53.9\n",
       "MINNEAPOLIS     24.6    92.2  51.9    106.0      50.7\n",
       "NEW YORK        30.8   110.7  66.0    107.3      62.6\n",
       "PHILADELPHIA    24.5    92.3  66.7     98.0      61.7\n",
       "PITTSBURGH      26.2    95.4  60.2    117.1      49.3\n",
       "ST LOUIS        26.5    92.4  60.8    115.1      46.2\n",
       "SAN DIEGO       25.5    83.7  57.0     92.8      35.4\n",
       "SAN FRANCISCO   26.3    87.1  58.3    101.8      41.5\n",
       "SEATTLE         22.5    77.7  62.0     91.1      44.9\n",
       "WASHINGTON DC   24.2    93.8  66.0     81.6      46.2"
      ]
     },
     "execution_count": 5,
     "metadata": {},
     "output_type": "execute_result"
    }
   ],
   "source": [
    "data"
   ]
  },
  {
   "cell_type": "code",
   "execution_count": 6,
   "metadata": {},
   "outputs": [],
   "source": [
    "# from sklearn.decomposition import PCA\n",
    "fit = PCA()\n",
    "pca = fit.fit_transform(data)"
   ]
  },
  {
   "cell_type": "code",
   "execution_count": 8,
   "metadata": {},
   "outputs": [
    {
     "data": {
      "text/plain": [
       "array([[-2.24762714e+01,  1.00845707e+01,  9.46706994e+00,\n",
       "        -3.89735603e+00,  2.43537404e+00],\n",
       "       [-2.53258177e+01,  1.32783721e+01, -2.65071744e-01,\n",
       "         6.10614933e+00, -9.17984958e-01],\n",
       "       [ 5.81098064e+00,  1.13895369e+01, -6.95261486e+00,\n",
       "         8.73898110e-01, -2.45824655e+00],\n",
       "       [ 1.41398558e+01, -5.96502128e+00,  5.05043799e+00,\n",
       "         4.93961016e+00,  8.92254233e-01],\n",
       "       [ 2.42688912e+00, -2.47720723e+00,  1.11409935e+00,\n",
       "         4.71699109e+00, -2.75839538e+00],\n",
       "       [-2.16579780e+00,  6.66356692e+00, -1.11848541e+00,\n",
       "        -8.91766033e+00,  2.84029383e+00],\n",
       "       [ 5.78854031e+00, -1.02431236e+01, -6.29539794e+00,\n",
       "        -5.34410326e-01,  1.23935118e+00],\n",
       "       [ 1.07573651e+01, -1.26210184e+01,  6.16362817e+00,\n",
       "        -1.43598563e+00,  3.64007581e-01],\n",
       "       [ 7.18530971e+00, -3.99487979e+00, -1.05358708e+01,\n",
       "        -8.04561500e-03,  9.94780260e-01],\n",
       "       [ 3.55970593e+01,  1.47894432e+01,  1.12532912e+01,\n",
       "        -8.96013891e-01, -6.40954376e-01],\n",
       "       [ 2.00346781e+00, -8.40384556e+00,  1.00331906e+01,\n",
       "         1.64796089e+00,  1.17054055e+00],\n",
       "       [-3.93638626e+00, -2.64334177e+00,  5.24855156e+00,\n",
       "        -1.71695479e+00, -1.18303154e+00],\n",
       "       [-2.26269688e+01, -3.13873470e+00, -3.52247326e+00,\n",
       "        -5.30682648e+00, -1.74752523e+00],\n",
       "       [ 8.73737565e+00, -6.06638331e+00, -7.65501678e+00,\n",
       "         4.59115032e+00,  3.64959503e+00],\n",
       "       [ 2.97376841e+00, -4.41798128e+00, -9.64503459e+00,\n",
       "        -3.50625606e-02,  2.67053707e-01],\n",
       "       [ 1.19402096e+01,  2.04102900e+01, -6.08703789e+00,\n",
       "        -3.43728589e+00, -1.04649714e+00],\n",
       "       [-8.71767781e-01,  1.04944441e+01, -1.45664735e+00,\n",
       "         9.94901998e+00,  6.66843299e-01],\n",
       "       [ 1.40411408e+01, -2.68904808e+00, -1.26365315e+00,\n",
       "        -3.32264989e+00, -3.05897234e-01],\n",
       "       [ 1.07422955e+01, -5.27854662e+00,  9.02209188e-01,\n",
       "        -3.42320924e+00, -1.18398897e+00],\n",
       "       [-1.50984763e+01, -1.13154305e+01,  9.50614176e-01,\n",
       "        -4.11468096e+00, -1.80854407e+00],\n",
       "       [-4.21030161e+00, -8.06785423e+00,  1.14645415e-01,\n",
       "        -2.61452577e+00, -2.03567974e+00],\n",
       "       [-1.51543297e+01, -7.84414643e+00,  3.34785003e+00,\n",
       "         7.87190077e+00, -5.19286141e-01],\n",
       "       [-2.02781405e+01,  8.05633901e+00,  1.15171616e+00,\n",
       "        -1.03601323e+00,  2.08593760e+00]])"
      ]
     },
     "execution_count": 8,
     "metadata": {},
     "output_type": "execute_result"
    }
   ],
   "source": [
    "pca"
   ]
  },
  {
   "cell_type": "code",
   "execution_count": 11,
   "metadata": {},
   "outputs": [
    {
     "data": {
      "image/png": "[encoded data removed]",
      "text/plain": [
       "<matplotlib.figure.Figure at 0x1061fbe80>"
      ]
     },
     "metadata": {},
     "output_type": "display_data"
    }
   ],
   "source": [
    "plt.plot(fit.explained_variance_ratio_);"
   ]
  },
  {
   "cell_type": "code",
   "execution_count": null,
   "metadata": {},
   "outputs": [],
   "source": []
  }
 ],
 "metadata": {
  "kernelspec": {
   "display_name": "Python 3",
   "language": "python",
   "name": "python3"
  },
  "language_info": {
   "codemirror_mode": {
    "name": "ipython",
    "version": 3
   },
   "file_extension": ".py",
   "mimetype": "text/x-python",
   "name": "python",
   "nbconvert_exporter": "python",
   "pygments_lexer": "ipython3",
   "version": "3.6.4"
  }
 },
 "nbformat": 4,
 "nbformat_minor": 2
}
