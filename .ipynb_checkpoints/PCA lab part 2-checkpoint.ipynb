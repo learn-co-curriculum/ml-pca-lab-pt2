{
 "cells": [
  {
   "cell_type": "markdown",
   "metadata": {},
   "source": [
    "# Principal component analysis continued"
   ]
  },
  {
   "cell_type": "code",
   "execution_count": 119,
   "metadata": {},
   "outputs": [],
   "source": [
    "import pandas as pd\n",
    "import numpy as np\n",
    "from sklearn.decomposition import PCA\n",
    "import sklearn.preprocessing as preprocessing\n",
    "import matplotlib.pyplot as plt\n",
    "import matplotlib.ticker as ticker\n",
    "% matplotlib inline"
   ]
  },
  {
   "cell_type": "code",
   "execution_count": 120,
   "metadata": {},
   "outputs": [],
   "source": [
    "data = pd.read_csv('nndb.csv', index_col=0)\n",
    "data.drop(data.columns[data.columns.str.contains('USRDA')].values, inplace = True, axis=1)"
   ]
  },
  {
   "cell_type": "code",
   "execution_count": 121,
   "metadata": {},
   "outputs": [],
   "source": [
    "data_desc = data.iloc[:, :3]\n",
    "data.drop(data.columns[:6].values, axis=1, inplace = True)"
   ]
  },
  {
   "cell_type": "code",
   "execution_count": 122,
   "metadata": {},
   "outputs": [],
   "source": [
    "from sklearn.preprocessing import StandardScaler\n",
    "data_stand = StandardScaler().fit_transform(data)\n",
    "data_stand = pd.DataFrame(data_stand)"
   ]
  },
  {
   "cell_type": "code",
   "execution_count": 123,
   "metadata": {},
   "outputs": [],
   "source": [
    "# from sklearn.decomposition import PCA\n",
    "fit = PCA()\n",
    "pca = fit.fit_transform(data_stand)"
   ]
  },
  {
   "cell_type": "code",
   "execution_count": 124,
   "metadata": {},
   "outputs": [
    {
     "data": {
      "text/plain": [
       "array([[-1.12177585e+00, -1.18225141e+00, -3.66193973e+00, ...,\n",
       "         2.08470136e-01, -3.98100905e-02,  3.70138174e-02],\n",
       "       [-1.11468691e+00, -1.18417302e+00, -3.66232928e+00, ...,\n",
       "         2.22450074e-01, -3.76157809e-02,  3.68193054e-02],\n",
       "       [-9.94919411e-01, -1.57357953e+00, -4.69772411e+00, ...,\n",
       "         2.38667900e-01, -7.22173197e-02,  4.31958958e-02],\n",
       "       ...,\n",
       "       [-7.67670698e-01, -3.26765632e+00,  9.85205562e-01, ...,\n",
       "         3.64559090e-01, -1.48468056e-01,  8.65889021e-02],\n",
       "       [ 3.55897094e-01,  6.78435359e-01, -1.00293556e+00, ...,\n",
       "        -8.24537105e-01,  1.12523136e-01, -4.86965696e-02],\n",
       "       [-8.66889802e-01,  1.19845904e+00,  1.93486895e-01, ...,\n",
       "        -1.53381540e-01,  2.30499506e-01, -1.91554534e-03]])"
      ]
     },
     "execution_count": 124,
     "metadata": {},
     "output_type": "execute_result"
    }
   ],
   "source": [
    "pca"
   ]
  },
  {
   "cell_type": "markdown",
   "metadata": {},
   "source": [
    "#### check the eigenvalues to find most important components"
   ]
  },
  {
   "cell_type": "code",
   "execution_count": 125,
   "metadata": {},
   "outputs": [
    {
     "data": {
      "text/plain": [
       "[<matplotlib.lines.Line2D at 0x1a167be710>]"
      ]
     },
     "execution_count": 125,
     "metadata": {},
     "output_type": "execute_result"
    },
    {
     "data": {
      "image/png": "[encoded data removed]",
      "text/plain": [
       "<matplotlib.figure.Figure at 0x1a16262f28>"
      ]
     },
     "metadata": {},
     "output_type": "display_data"
    }
   ],
   "source": [
    "plt.plot(fit.explained_variance_ratio_)"
   ]
  },
  {
   "cell_type": "code",
   "execution_count": 126,
   "metadata": {},
   "outputs": [
    {
     "name": "stdout",
     "output_type": "stream",
     "text": [
      "[2.36925468e-01 1.13846015e-01 8.83433734e-02 8.17013669e-02\n",
      " 7.11161480e-02 4.95813332e-02 4.61246638e-02 4.02719041e-02\n",
      " 3.74790508e-02 3.58559322e-02 3.17927198e-02 2.59519549e-02\n",
      " 2.21153503e-02 2.04113766e-02 1.77385355e-02 1.46927827e-02\n",
      " 1.43290735e-02 1.39668837e-02 1.11392349e-02 1.03538827e-02\n",
      " 9.18082227e-03 6.91711649e-03 1.65010749e-04]\n",
      "0.5919323716235945\n"
     ]
    }
   ],
   "source": [
    "print(fit.explained_variance_ratio_)\n",
    "print(fit.explained_variance_ratio_[:5].sum())"
   ]
  },
  {
   "cell_type": "code",
   "execution_count": 127,
   "metadata": {},
   "outputs": [],
   "source": [
    "## ??? \n",
    "pca = pd.DataFrame(pca[:, :5], index=data.index)\n",
    "pca = pca.join(data_desc)\n",
    "pca.rename(columns={0:'c1',1:'c2',2:'c3',3:'c4',4:'c5'}, inplace=True)"
   ]
  },
  {
   "cell_type": "code",
   "execution_count": 128,
   "metadata": {},
   "outputs": [
    {
     "data": {
      "text/html": [
       "<div>\n",
       "<style scoped>\n",
       "    .dataframe tbody tr th:only-of-type {\n",
       "        vertical-align: middle;\n",
       "    }\n",
       "\n",
       "    .dataframe tbody tr th {\n",
       "        vertical-align: top;\n",
       "    }\n",
       "\n",
       "    .dataframe thead th {\n",
       "        text-align: right;\n",
       "    }\n",
       "</style>\n",
       "<table border=\"1\" class=\"dataframe\">\n",
       "  <thead>\n",
       "    <tr style=\"text-align: right;\">\n",
       "      <th></th>\n",
       "      <th>c1</th>\n",
       "      <th>c2</th>\n",
       "      <th>c3</th>\n",
       "      <th>c4</th>\n",
       "      <th>c5</th>\n",
       "    </tr>\n",
       "  </thead>\n",
       "  <tbody>\n",
       "    <tr>\n",
       "      <th>c1</th>\n",
       "      <td>1.0</td>\n",
       "      <td>-0.0</td>\n",
       "      <td>-0.0</td>\n",
       "      <td>-0.0</td>\n",
       "      <td>0.0</td>\n",
       "    </tr>\n",
       "    <tr>\n",
       "      <th>c2</th>\n",
       "      <td>-0.0</td>\n",
       "      <td>1.0</td>\n",
       "      <td>0.0</td>\n",
       "      <td>-0.0</td>\n",
       "      <td>0.0</td>\n",
       "    </tr>\n",
       "    <tr>\n",
       "      <th>c3</th>\n",
       "      <td>-0.0</td>\n",
       "      <td>0.0</td>\n",
       "      <td>1.0</td>\n",
       "      <td>0.0</td>\n",
       "      <td>-0.0</td>\n",
       "    </tr>\n",
       "    <tr>\n",
       "      <th>c4</th>\n",
       "      <td>-0.0</td>\n",
       "      <td>-0.0</td>\n",
       "      <td>0.0</td>\n",
       "      <td>1.0</td>\n",
       "      <td>0.0</td>\n",
       "    </tr>\n",
       "    <tr>\n",
       "      <th>c5</th>\n",
       "      <td>0.0</td>\n",
       "      <td>0.0</td>\n",
       "      <td>-0.0</td>\n",
       "      <td>0.0</td>\n",
       "      <td>1.0</td>\n",
       "    </tr>\n",
       "  </tbody>\n",
       "</table>\n",
       "</div>"
      ],
      "text/plain": [
       "     c1   c2   c3   c4   c5\n",
       "c1  1.0 -0.0 -0.0 -0.0  0.0\n",
       "c2 -0.0  1.0  0.0 -0.0  0.0\n",
       "c3 -0.0  0.0  1.0  0.0 -0.0\n",
       "c4 -0.0 -0.0  0.0  1.0  0.0\n",
       "c5  0.0  0.0 -0.0  0.0  1.0"
      ]
     },
     "execution_count": 128,
     "metadata": {},
     "output_type": "execute_result"
    }
   ],
   "source": [
    "# we see that the five vectors are orthogonal\n",
    "np.round(pca.corr(), 5)"
   ]
  },
  {
   "cell_type": "markdown",
   "metadata": {},
   "source": [
    "## Try to interpret the components\n",
    "\n",
    "(this is where deep subject matter expertise, in this case nutrition, comes in handy)"
   ]
  },
  {
   "cell_type": "markdown",
   "metadata": {},
   "source": [
    "#### NOTE: The descriptions are not correct as we didn't do boxfox transformations"
   ]
  },
  {
   "cell_type": "markdown",
   "metadata": {},
   "source": [
    "**Component one** \n",
    "\n",
    "foods that are high in: zinc, and other vitamins and minerals\n",
    "\n",
    "low in: sugar, vitamin C, Carbs, and fiber"
   ]
  },
  {
   "cell_type": "code",
   "execution_count": 129,
   "metadata": {},
   "outputs": [
    {
     "data": {
      "text/plain": [
       "Riboflavin_mg    0.341325\n",
       "Niacin_mg        0.337779\n",
       "VitB6_mg         0.315663\n",
       "Iron_mg          0.299857\n",
       "Folate_mcg       0.284102\n",
       "Thiamin_mg       0.272453\n",
       "Zinc_mg          0.243551\n",
       "Magnesium_mg     0.241348\n",
       "Phosphorus_mg    0.199403\n",
       "Fiber_g          0.181570\n",
       "Copper_mcg       0.180806\n",
       "VitB12_mcg       0.177985\n",
       "Carb_g           0.169685\n",
       "Calcium_mg       0.168112\n",
       "Energy_kcal      0.157814\n",
       "Protein_g        0.140620\n",
       "VitE_mg          0.137122\n",
       "VitA_mcg         0.133519\n",
       "Manganese_mg     0.093567\n",
       "Selenium_mcg     0.092319\n",
       "VitC_mg          0.087639\n",
       "Sugar_g          0.076323\n",
       "Fat_g            0.033008\n",
       "dtype: float64"
      ]
     },
     "execution_count": 129,
     "metadata": {},
     "output_type": "execute_result"
    }
   ],
   "source": [
    "vects = fit.components_[:5]\n",
    "\n",
    "one = pd.Series(vects[0], index=data.columns)\n",
    "one.sort_values(ascending=False)"
   ]
  },
  {
   "cell_type": "markdown",
   "metadata": {},
   "source": [
    "**Component two**\n",
    "\n",
    "High: Carbs, Fiber, Mang, Sugar, Vitamin C...\n",
    "\n",
    "Low: Vitamine B12, protein, selenium, Fat..."
   ]
  },
  {
   "cell_type": "code",
   "execution_count": 130,
   "metadata": {},
   "outputs": [
    {
     "data": {
      "text/plain": [
       "VitB12_mcg       0.355045\n",
       "Protein_g        0.343397\n",
       "Selenium_mcg     0.239322\n",
       "VitA_mcg         0.236470\n",
       "Copper_mcg       0.212669\n",
       "Zinc_mg          0.177798\n",
       "Manganese_mg     0.088783\n",
       "Phosphorus_mg    0.087448\n",
       "Niacin_mg        0.084801\n",
       "Riboflavin_mg    0.073471\n",
       "VitB6_mg         0.021129\n",
       "VitC_mg         -0.038525\n",
       "Thiamin_mg      -0.075150\n",
       "Iron_mg         -0.093812\n",
       "Folate_mcg      -0.097093\n",
       "Magnesium_mg    -0.103361\n",
       "Calcium_mg      -0.105173\n",
       "VitE_mg         -0.106372\n",
       "Fat_g           -0.111670\n",
       "Fiber_g         -0.257733\n",
       "Energy_kcal     -0.273449\n",
       "Sugar_g         -0.358769\n",
       "Carb_g          -0.443416\n",
       "dtype: float64"
      ]
     },
     "execution_count": 130,
     "metadata": {},
     "output_type": "execute_result"
    }
   ],
   "source": [
    "two = pd.Series(vects[1], index=data.columns)\n",
    "two.sort_values(ascending=False)"
   ]
  },
  {
   "cell_type": "markdown",
   "metadata": {},
   "source": [
    "**Component three**\n",
    "\n",
    "High: calories, fat, carbs, sugar...\n",
    "\n",
    "Low: vitamin A, vitamin C, folate, copper..."
   ]
  },
  {
   "cell_type": "code",
   "execution_count": 131,
   "metadata": {},
   "outputs": [
    {
     "data": {
      "text/plain": [
       "Folate_mcg       0.230985\n",
       "Riboflavin_mg    0.192098\n",
       "Thiamin_mg       0.184351\n",
       "VitB6_mg         0.174648\n",
       "Niacin_mg        0.164885\n",
       "VitC_mg          0.162303\n",
       "Iron_mg          0.087109\n",
       "Sugar_g          0.055247\n",
       "Carb_g           0.049822\n",
       "VitB12_mcg      -0.012760\n",
       "VitA_mcg        -0.021929\n",
       "Zinc_mg         -0.038639\n",
       "Fiber_g         -0.040397\n",
       "Manganese_mg    -0.072630\n",
       "Calcium_mg      -0.128139\n",
       "Copper_mcg      -0.152263\n",
       "Selenium_mcg    -0.163361\n",
       "Magnesium_mg    -0.201225\n",
       "VitE_mg         -0.207331\n",
       "Protein_g       -0.213567\n",
       "Phosphorus_mg   -0.274814\n",
       "Energy_kcal     -0.462006\n",
       "Fat_g           -0.534051\n",
       "dtype: float64"
      ]
     },
     "execution_count": 131,
     "metadata": {},
     "output_type": "execute_result"
    }
   ],
   "source": [
    "three = pd.Series(vects[2], index=data.columns)\n",
    "three.sort_values(ascending=False)"
   ]
  },
  {
   "cell_type": "markdown",
   "metadata": {},
   "source": [
    "**Component four**\n",
    "\n",
    "High: vitamin A, vitamin E, fat, sugar, calcium, vitamin B12, calories...\n",
    "\n",
    "Low: manganese, copper, iron, magnesium, fiber"
   ]
  },
  {
   "cell_type": "code",
   "execution_count": 132,
   "metadata": {},
   "outputs": [
    {
     "data": {
      "text/plain": [
       "VitA_mcg         0.530395\n",
       "Copper_mcg       0.389929\n",
       "VitB12_mcg       0.346550\n",
       "Manganese_mg     0.311369\n",
       "Sugar_g          0.217373\n",
       "Carb_g           0.174108\n",
       "Energy_kcal      0.052280\n",
       "VitC_mg          0.047584\n",
       "Riboflavin_mg    0.046996\n",
       "Fiber_g          0.042130\n",
       "Fat_g            0.026520\n",
       "VitE_mg          0.026174\n",
       "Folate_mcg      -0.032481\n",
       "Iron_mg         -0.059443\n",
       "Magnesium_mg    -0.071805\n",
       "Calcium_mg      -0.099340\n",
       "Thiamin_mg      -0.103518\n",
       "VitB6_mg        -0.114372\n",
       "Niacin_mg       -0.156394\n",
       "Selenium_mcg    -0.161623\n",
       "Zinc_mg         -0.166322\n",
       "Phosphorus_mg   -0.207871\n",
       "Protein_g       -0.311112\n",
       "dtype: float64"
      ]
     },
     "execution_count": 132,
     "metadata": {},
     "output_type": "execute_result"
    }
   ],
   "source": [
    "four = pd.Series(vects[3], index=data.columns)\n",
    "four.sort_values(ascending=False)"
   ]
  },
  {
   "cell_type": "code",
   "execution_count": 133,
   "metadata": {},
   "outputs": [
    {
     "data": {
      "text/plain": [
       "Soups, Sauces, and Gravies             219\n",
       "Beverages                              176\n",
       "Vegetables and Vegetable Products       28\n",
       "Fruits and Fruit Juices                 27\n",
       "American Indian/Alaska Native Foods     11\n",
       "Sweets                                   9\n",
       "Baby Foods                               6\n",
       "Legumes and Legume Products              6\n",
       "Spices and Herbs                         6\n",
       "Fats and Oils                            5\n",
       "Dairy and Egg Products                   3\n",
       "Meals, Entrees, and Side Dishes          2\n",
       "Baked Products                           1\n",
       "Fast Foods                               1\n",
       "Name: FoodGroup, dtype: int64"
      ]
     },
     "execution_count": 133,
     "metadata": {},
     "output_type": "execute_result"
    }
   ],
   "source": [
    "pca.sort_values(by='c1')['FoodGroup'][:500].value_counts()"
   ]
  },
  {
   "cell_type": "code",
   "execution_count": 134,
   "metadata": {},
   "outputs": [
    {
     "data": {
      "text/plain": [
       "Sweets                                 170\n",
       "Baked Products                         148\n",
       "Breakfast Cereals                       53\n",
       "Spices and Herbs                        26\n",
       "Snacks                                  22\n",
       "Beverages                               18\n",
       "Fruits and Fruit Juices                 16\n",
       "Fats and Oils                           14\n",
       "Vegetables and Vegetable Products       12\n",
       "Baby Foods                               7\n",
       "Dairy and Egg Products                   5\n",
       "Nut and Seed Products                    4\n",
       "American Indian/Alaska Native Foods      3\n",
       "Cereal Grains and Pasta                  1\n",
       "Legumes and Legume Products              1\n",
       "Name: FoodGroup, dtype: int64"
      ]
     },
     "execution_count": 134,
     "metadata": {},
     "output_type": "execute_result"
    }
   ],
   "source": [
    "pca.sort_values(by='c2')['FoodGroup'][:500].value_counts()"
   ]
  },
  {
   "cell_type": "code",
   "execution_count": 135,
   "metadata": {},
   "outputs": [
    {
     "data": {
      "text/plain": [
       "Fats and Oils                          148\n",
       "Nut and Seed Products                   90\n",
       "Dairy and Egg Products                  57\n",
       "Legumes and Legume Products             50\n",
       "Beef Products                           20\n",
       "Lamb, Veal, and Game Products           20\n",
       "Sweets                                  19\n",
       "American Indian/Alaska Native Foods     17\n",
       "Pork Products                           16\n",
       "Snacks                                  15\n",
       "Spices and Herbs                        14\n",
       "Beverages                                8\n",
       "Breakfast Cereals                        6\n",
       "Finfish and Shellfish Products           5\n",
       "Poultry Products                         4\n",
       "Baked Products                           3\n",
       "Baby Foods                               2\n",
       "Cereal Grains and Pasta                  2\n",
       "Soups, Sauces, and Gravies               1\n",
       "Vegetables and Vegetable Products        1\n",
       "Sausages and Luncheon Meats              1\n",
       "Fast Foods                               1\n",
       "Name: FoodGroup, dtype: int64"
      ]
     },
     "execution_count": 135,
     "metadata": {},
     "output_type": "execute_result"
    }
   ],
   "source": [
    "pca.sort_values(by='c3')['FoodGroup'][:500].value_counts()"
   ]
  },
  {
   "cell_type": "code",
   "execution_count": 136,
   "metadata": {},
   "outputs": [
    {
     "data": {
      "text/plain": [
       "Beef Products                          149\n",
       "Pork Products                          107\n",
       "Poultry Products                        39\n",
       "Breakfast Cereals                       34\n",
       "Dairy and Egg Products                  34\n",
       "Lamb, Veal, and Game Products           25\n",
       "American Indian/Alaska Native Foods     19\n",
       "Legumes and Legume Products             18\n",
       "Nut and Seed Products                   16\n",
       "Finfish and Shellfish Products          12\n",
       "Baby Foods                              10\n",
       "Snacks                                   8\n",
       "Spices and Herbs                         7\n",
       "Baked Products                           5\n",
       "Cereal Grains and Pasta                  4\n",
       "Beverages                                3\n",
       "Sweets                                   3\n",
       "Restaurant Foods                         2\n",
       "Vegetables and Vegetable Products        2\n",
       "Fast Foods                               2\n",
       "Sausages and Luncheon Meats              1\n",
       "Name: FoodGroup, dtype: int64"
      ]
     },
     "execution_count": 136,
     "metadata": {},
     "output_type": "execute_result"
    }
   ],
   "source": [
    "pca.sort_values(by='c4')['FoodGroup'][:500].value_counts()"
   ]
  },
  {
   "cell_type": "code",
   "execution_count": 137,
   "metadata": {},
   "outputs": [
    {
     "data": {
      "text/plain": [
       "Fats and Oils                          170\n",
       "Breakfast Cereals                      129\n",
       "Pork Products                           29\n",
       "Baked Products                          22\n",
       "Poultry Products                        21\n",
       "Beef Products                           21\n",
       "Lamb, Veal, and Game Products           21\n",
       "Legumes and Legume Products             19\n",
       "Sausages and Luncheon Meats             18\n",
       "Snacks                                  16\n",
       "American Indian/Alaska Native Foods     14\n",
       "Dairy and Egg Products                   5\n",
       "Nut and Seed Products                    4\n",
       "Sweets                                   3\n",
       "Baby Foods                               2\n",
       "Beverages                                2\n",
       "Fast Foods                               2\n",
       "Vegetables and Vegetable Products        1\n",
       "Soups, Sauces, and Gravies               1\n",
       "Name: FoodGroup, dtype: int64"
      ]
     },
     "execution_count": 137,
     "metadata": {},
     "output_type": "execute_result"
    }
   ],
   "source": [
    "pca.sort_values(by='c5')['FoodGroup'][:500].value_counts()"
   ]
  }
 ],
 "metadata": {
  "kernelspec": {
   "display_name": "Python 3",
   "language": "python",
   "name": "python3"
  },
  "language_info": {
   "codemirror_mode": {
    "name": "ipython",
    "version": 3
   },
   "file_extension": ".py",
   "mimetype": "text/x-python",
   "name": "python",
   "nbconvert_exporter": "python",
   "pygments_lexer": "ipython3",
   "version": "3.6.4"
  }
 },
 "nbformat": 4,
 "nbformat_minor": 2
}
